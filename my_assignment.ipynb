{
 "cells": [
  {
   "cell_type": "markdown",
   "id": "3e777fc8-9cb5-4d91-9ea8-724069ca5cf2",
   "metadata": {},
   "source": [
    "# My Jupyter Notebook on IBM Watson Studio"
   ]
  },
  {
   "cell_type": "markdown",
   "id": "e4677bab-6cad-4879-8501-0eed2b43e2b1",
   "metadata": {},
   "source": [
    "**Dominic da Silva** <br>\n",
    "Data scientist"
   ]
  },
  {
   "cell_type": "markdown",
   "id": "78ea68cf-268b-4d18-a9a9-ec7a5c5f6c60",
   "metadata": {},
   "source": [
    "*I want to be a Data scientist to leverage big data and ML to create exciting tools like natural language programs and that will help progress to a full AGI system.*"
   ]
  },
  {
   "cell_type": "markdown",
   "id": "d5e34d35-de61-4cf0-b65c-a1fecfb8cc6d",
   "metadata": {},
   "source": [
    "### The following code will say hello to the world"
   ]
  },
  {
   "cell_type": "code",
   "execution_count": 4,
   "id": "96fb3d8d-984e-4d7c-bfc9-b2a4c5783e86",
   "metadata": {},
   "outputs": [
    {
     "name": "stdout",
     "output_type": "stream",
     "text": [
      "Hello world\n"
     ]
    }
   ],
   "source": [
    "print(\"Hello world\")"
   ]
  },
  {
   "cell_type": "markdown",
   "id": "59744e3c-d470-473b-b762-62bbb6e567fe",
   "metadata": {},
   "source": [
    "1. Numbered list 2. ~~strikethrough~~ 3. >blockquotes"
   ]
  },
  {
   "cell_type": "markdown",
   "id": "42d3d9d9-7e31-43bf-9876-f4d0b24badd4",
   "metadata": {},
   "source": []
  },
  {
   "cell_type": "code",
   "execution_count": null,
   "id": "b2a98bfd-cbd0-414e-b567-5842b9b71023",
   "metadata": {},
   "outputs": [],
   "source": []
  }
 ],
 "metadata": {
  "kernelspec": {
   "display_name": "Python",
   "language": "python",
   "name": "conda-env-python-py"
  },
  "language_info": {
   "codemirror_mode": {
    "name": "ipython",
    "version": 3
   },
   "file_extension": ".py",
   "mimetype": "text/x-python",
   "name": "python",
   "nbconvert_exporter": "python",
   "pygments_lexer": "ipython3",
   "version": "3.7.12"
  }
 },
 "nbformat": 4,
 "nbformat_minor": 5
}
